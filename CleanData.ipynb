{
 "cells": [
  {
   "cell_type": "code",
   "execution_count": 18,
   "metadata": {},
   "outputs": [
    {
     "name": "stderr",
     "output_type": "stream",
     "text": [
      "/var/folders/5v/s327w09x2b7bc679clc46r0h0000gq/T/ipykernel_69269/1412995961.py:6: DtypeWarning: Columns (25) have mixed types. Specify dtype option on import or set low_memory=False.\n",
      "  df_airbnb = pd.read_csv('Airbnb_Open_Data.csv')\n"
     ]
    }
   ],
   "source": [
    "import numpy as np\n",
    "import pandas as pd\n",
    "import matplotlib.pyplot as plt\n",
    "from matplotlib import colors \n",
    "\n",
    "df_airbnb = pd.read_csv('Airbnb_Open_Data.csv')"
   ]
  },
  {
   "cell_type": "code",
   "execution_count": 19,
   "metadata": {},
   "outputs": [],
   "source": [
    "# drop the column we do not use\n",
    "df_airbnb = df_airbnb.drop(['id', 'host id','country','country code','license','last review'], axis=1)\n",
    "\n",
    "# change host_identity_verified to binary int\n",
    "df_airbnb['host_identity_verified'] = df_airbnb['host_identity_verified'].map({'verified': 1, 'unconfirmed': 0})\n",
    "\n",
    "# combine the same group for neighbourhood group\n",
    "df_airbnb['neighbourhood group'] = df_airbnb['neighbourhood group'].replace('brookln', 'Brooklyn').replace('manhatan', 'Manhattan')\n",
    "\n",
    "# Fill missing values in the 'neighbourhood group' column with a placeholder (e.g., 'Unknown')\n",
    "df_airbnb['neighbourhood group'].fillna('Unknown', inplace=True)\n",
    "df_airbnb['neighbourhood'].fillna('Unknown', inplace=True)\n",
    "\n",
    "# Apply the function to fill missing prices\n",
    "df_airbnb['price'] = df_airbnb['price'].replace('[\\$,]', '', regex=True)\n",
    "df_airbnb['service fee'] = df_airbnb['service fee'].replace('[\\$,]', '', regex=True)\n",
    "\n",
    "# Convert the \"price\" column to a float data type\n",
    "df_airbnb['price'] = df_airbnb['price'].astype(float)\n",
    "df_airbnb['service fee'] = df_airbnb['service fee'].astype(float)\n",
    "\n",
    "# Calculate the average price for each neighborhood\n",
    "average_prices = df_airbnb.groupby('neighbourhood')['price'].mean()\n",
    "\n",
    "# Function to fill missing prices with the average price of the neighborhood\n",
    "def fill_missing_price(row):\n",
    "    if pd.isnull(row['price']):\n",
    "        return average_prices[row['neighbourhood']]\n",
    "    else:\n",
    "        return row['price']\n",
    "\n",
    "# Apply the function to update missing prices\n",
    "df_airbnb['price'] = df_airbnb.apply(fill_missing_price, axis=1)\n",
    "\n",
    "#Apply latitude and longitude restrictions for NYC\n",
    "df_airbnb = df_airbnb[(df_airbnb['lat']>40.55) &(df_airbnb['lat']<40.94) & (df_airbnb['long']>-74.1) & (df_airbnb['long']<-73.67)]\n"
   ]
  },
  {
   "cell_type": "code",
   "execution_count": 20,
   "metadata": {},
   "outputs": [
    {
     "data": {
      "text/plain": [
       "NAME                                250\n",
       "host_identity_verified              288\n",
       "host name                           403\n",
       "neighbourhood group                   0\n",
       "neighbourhood                         0\n",
       "lat                                   0\n",
       "long                                  0\n",
       "instant_bookable                    105\n",
       "cancellation_policy                  76\n",
       "room type                             0\n",
       "Construction year                   213\n",
       "price                                 0\n",
       "service fee                         271\n",
       "minimum nights                      408\n",
       "number of reviews                   183\n",
       "reviews per month                 15829\n",
       "review rate number                  326\n",
       "calculated host listings count      319\n",
       "availability 365                    448\n",
       "house_rules                       51925\n",
       "dtype: int64"
      ]
     },
     "execution_count": 20,
     "metadata": {},
     "output_type": "execute_result"
    }
   ],
   "source": [
    "df_airbnb.isnull().sum()"
   ]
  },
  {
   "cell_type": "code",
   "execution_count": 21,
   "metadata": {},
   "outputs": [
    {
     "data": {
      "text/plain": [
       "Bedford-Stuyvesant    7937\n",
       "Williamsburg          7775\n",
       "Harlem                5466\n",
       "Bushwick              4982\n",
       "Hell's Kitchen        3965\n",
       "                      ... \n",
       "West Farms               6\n",
       "Co-op City               5\n",
       "Gerritsen Beach          3\n",
       "Fort Wadsworth           2\n",
       "Glen Oaks                2\n",
       "Name: neighbourhood, Length: 197, dtype: int64"
      ]
     },
     "execution_count": 21,
     "metadata": {},
     "output_type": "execute_result"
    }
   ],
   "source": []
  }
 ],
 "metadata": {
  "kernelspec": {
   "display_name": "base",
   "language": "python",
   "name": "python3"
  },
  "language_info": {
   "codemirror_mode": {
    "name": "ipython",
    "version": 3
   },
   "file_extension": ".py",
   "mimetype": "text/x-python",
   "name": "python",
   "nbconvert_exporter": "python",
   "pygments_lexer": "ipython3",
   "version": "3.11.3"
  },
  "orig_nbformat": 4
 },
 "nbformat": 4,
 "nbformat_minor": 2
}
